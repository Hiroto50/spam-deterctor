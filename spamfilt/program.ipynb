{
 "cells": [
  {
   "cell_type": "code",
   "execution_count": null,
   "metadata": {},
   "outputs": [],
   "source": [
    "from classes.PreProcess import PrePro\n",
    "from classes.Naive import NaiveBayes\n",
    "from classes.Metric import Metric\n",
    "from dataset.database import get_df\n"
   ]
  },
  {
   "cell_type": "code",
   "execution_count": null,
   "metadata": {},
   "outputs": [],
   "source": [
    "df = get_df"
   ]
  },
  {
   "cell_type": "code",
   "execution_count": null,
   "metadata": {},
   "outputs": [],
   "source": [
    "prepro = PrePro()"
   ]
  },
  {
   "cell_type": "code",
   "execution_count": null,
   "metadata": {},
   "outputs": [],
   "source": [
    "df[\"x\"] = df[\"x\"].apply(prepro.lower_case)\n",
    "df[\"x\"] = df[\"x\"].apply(prepro.remove_punctuation)\n",
    "df[\"x\"] = df[\"x\"].apply(prepro.remove_stopwords)\n",
    "df[\"x\"] = df[\"x\"].apply(prepro.lemmatized_word)"
   ]
  },
  {
   "cell_type": "code",
   "execution_count": null,
   "metadata": {},
   "outputs": [],
   "source": [
    "df.head()"
   ]
  }
 ],
 "metadata": {
  "language_info": {
   "name": "python"
  },
  "orig_nbformat": 4
 },
 "nbformat": 4,
 "nbformat_minor": 2
}
